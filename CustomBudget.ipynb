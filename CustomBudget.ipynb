{
 "cells": [
  {
   "cell_type": "code",
   "execution_count": 7,
   "id": "e549e9c8",
   "metadata": {},
   "outputs": [
    {
     "name": "stdout",
     "output_type": "stream",
     "text": [
      "Requirement already satisfied: matplotlib in /Library/Frameworks/Python.framework/Versions/3.10/lib/python3.10/site-packages (3.5.2)\n",
      "Requirement already satisfied: cycler>=0.10 in /Library/Frameworks/Python.framework/Versions/3.10/lib/python3.10/site-packages (from matplotlib) (0.11.0)\n",
      "Requirement already satisfied: packaging>=20.0 in /Library/Frameworks/Python.framework/Versions/3.10/lib/python3.10/site-packages (from matplotlib) (21.3)\n",
      "Requirement already satisfied: kiwisolver>=1.0.1 in /Library/Frameworks/Python.framework/Versions/3.10/lib/python3.10/site-packages (from matplotlib) (1.4.2)\n",
      "Requirement already satisfied: numpy>=1.17 in /Library/Frameworks/Python.framework/Versions/3.10/lib/python3.10/site-packages (from matplotlib) (1.22.3)\n",
      "Requirement already satisfied: python-dateutil>=2.7 in /Library/Frameworks/Python.framework/Versions/3.10/lib/python3.10/site-packages (from matplotlib) (2.8.2)\n",
      "Requirement already satisfied: pyparsing>=2.2.1 in /Library/Frameworks/Python.framework/Versions/3.10/lib/python3.10/site-packages (from matplotlib) (3.0.7)\n",
      "Requirement already satisfied: pillow>=6.2.0 in /Library/Frameworks/Python.framework/Versions/3.10/lib/python3.10/site-packages (from matplotlib) (9.1.1)\n",
      "Requirement already satisfied: fonttools>=4.22.0 in /Library/Frameworks/Python.framework/Versions/3.10/lib/python3.10/site-packages (from matplotlib) (4.33.3)\n",
      "Requirement already satisfied: six>=1.5 in /Library/Frameworks/Python.framework/Versions/3.10/lib/python3.10/site-packages (from python-dateutil>=2.7->matplotlib) (1.16.0)\n",
      "\u001b[33mWARNING: You are using pip version 22.0.4; however, version 22.1.2 is available.\n",
      "You should consider upgrading via the '/Library/Frameworks/Python.framework/Versions/3.10/bin/python3.10 -m pip install --upgrade pip' command.\u001b[0m\u001b[33m\n",
      "\u001b[0mRequirement already satisfied: pandas in /Library/Frameworks/Python.framework/Versions/3.10/lib/python3.10/site-packages (1.4.1)\n",
      "Requirement already satisfied: numpy>=1.21.0 in /Library/Frameworks/Python.framework/Versions/3.10/lib/python3.10/site-packages (from pandas) (1.22.3)\n",
      "Requirement already satisfied: python-dateutil>=2.8.1 in /Library/Frameworks/Python.framework/Versions/3.10/lib/python3.10/site-packages (from pandas) (2.8.2)\n",
      "Requirement already satisfied: pytz>=2020.1 in /Library/Frameworks/Python.framework/Versions/3.10/lib/python3.10/site-packages (from pandas) (2022.1)\n",
      "Requirement already satisfied: six>=1.5 in /Library/Frameworks/Python.framework/Versions/3.10/lib/python3.10/site-packages (from python-dateutil>=2.8.1->pandas) (1.16.0)\n",
      "\u001b[33mWARNING: You are using pip version 22.0.4; however, version 22.1.2 is available.\n",
      "You should consider upgrading via the '/Library/Frameworks/Python.framework/Versions/3.10/bin/python3.10 -m pip install --upgrade pip' command.\u001b[0m\u001b[33m\n",
      "\u001b[0mRequirement already satisfied: plotly in /Library/Frameworks/Python.framework/Versions/3.10/lib/python3.10/site-packages (5.8.1)\n",
      "Requirement already satisfied: tenacity>=6.2.0 in /Library/Frameworks/Python.framework/Versions/3.10/lib/python3.10/site-packages (from plotly) (8.0.1)\n",
      "\u001b[33mWARNING: You are using pip version 22.0.4; however, version 22.1.2 is available.\n",
      "You should consider upgrading via the '/Library/Frameworks/Python.framework/Versions/3.10/bin/python3.10 -m pip install --upgrade pip' command.\u001b[0m\u001b[33m\n",
      "\u001b[0m"
     ]
    }
   ],
   "source": [
    "!pip3 install matplotlib\n",
    "!pip3 install pandas\n",
    "!pip3 install plotly"
   ]
  },
  {
   "cell_type": "code",
   "execution_count": 8,
   "id": "0a0d0bbb",
   "metadata": {},
   "outputs": [],
   "source": [
    "import math\n",
    "import pandas as pd\n",
    "import matplotlib.pyplot as plt\n",
    "import plotly.express as px\n",
    "import datetime\n",
    "import os"
   ]
  },
  {
   "cell_type": "code",
   "execution_count": 13,
   "id": "14d3f056",
   "metadata": {},
   "outputs": [
    {
     "data": {
      "text/plain": [
       "\" Description:\\ntldr me making a software to model how I spend money\\n\\nFuture Cool Stuff:\\n- use amazon or honey api to get projection of cost of things instead of general estimate\\n- optimize verbal insights\\n- add more complex costs like people's birthdays\\n- add markers for specific time peridos like semester days (140) and yearly goals\\n- add prediction software for investment portfolio at average interest rate\\n- show price drop reasons on-hover\\n- add functionality to account for dates\\n- can rework d/w/m/y system by just using a number of days as input per cost\\n\\nIf I ever wanted to sell this:\\n- I could probably make a google form that auto-uploads a google sheets converted to csv and then autoruns this code, taking in said csv\\n\\nref: https://www.desmos.com/calculator/1qrgcqb61s\\nsubscriptions: https://www.amazon.com/gp/subscribe-and-save/manager/viewsubscriptions?ref_=nav_AccountFlyout_sns\\n\""
      ]
     },
     "execution_count": 13,
     "metadata": {},
     "output_type": "execute_result"
    }
   ],
   "source": [
    "\"\"\" Description:\n",
    "tldr me making a software to model how I spend money\n",
    "\n",
    "Future Cool Stuff:\n",
    "- use amazon or honey api to get projection of cost of things instead of general estimate\n",
    "- optimize verbal insights\n",
    "- add more complex costs like people's birthdays\n",
    "- add markers for specific time peridos like semester days (140) and yearly goals\n",
    "- add prediction software for investment portfolio at average interest rate\n",
    "- show price drop reasons on-hover\n",
    "- add functionality to account for dates\n",
    "- can rework d/w/m/y system by just using a number of days as input per cost\n",
    "\n",
    "If I ever wanted to sell this:\n",
    "- I could probably make a google form that auto-uploads a google sheets converted to csv and then autoruns this code, taking in said csv\n",
    "\n",
    "ref: https://www.desmos.com/calculator/1qrgcqb61s\n",
    "subscriptions: https://www.amazon.com/gp/subscribe-and-save/manager/viewsubscriptions?ref_=nav_AccountFlyout_sns\n",
    "\"\"\""
   ]
  },
  {
   "cell_type": "code",
   "execution_count": 14,
   "id": "f6f52032",
   "metadata": {},
   "outputs": [],
   "source": [
    "# globals\n",
    "saftey_modifier = 1.15  # percent\n",
    "saftey_in_account = 100  # amt usd that should always be in account\n",
    "\n",
    "hr_work_week = 40\n",
    "tax_rate = 1-0.25\n",
    "\n",
    "cols = [\"Time\", \"Money\", \"Investing?\"]  # x, y, z"
   ]
  },
  {
   "cell_type": "code",
   "execution_count": 15,
   "id": "eae683de",
   "metadata": {},
   "outputs": [],
   "source": [
    "def add_plots(init_money, constraints, monthly_investing=100, years=1):\n",
    "    \"\"\" plots cost/time \"\"\"\n",
    "    total_daily = 0\n",
    "    total_weekly = 0\n",
    "    total_monthly = 0\n",
    "    total_yearly = 0\n",
    "    # TODO: implement buffer\n",
    "    \n",
    "    for name, info in constraints.items():\n",
    "        cost = info[0]\n",
    "        if cost > 0: # is posative\n",
    "            cost *= saftey_modifier\n",
    "\n",
    "        if info[1] == \"d\":\n",
    "            total_daily += cost\n",
    "        elif info[1] == \"w\":\n",
    "            total_weekly += cost\n",
    "        elif info[1] == \"m\":\n",
    "            total_monthly += cost\n",
    "        elif info[1] == \"y\":\n",
    "            total_yearly += cost\n",
    "        else:\n",
    "            raise Exception(\"bad cost-time period calculation\")\n",
    "            \n",
    "    start_date = datetime.datetime.now()\n",
    "    end_date = start_date + datetime.timedelta(days=365*years)\n",
    "    delta = datetime.timedelta(days=1)\n",
    "    \n",
    "    curr_money = init_money\n",
    "    curr_money_invest = init_money\n",
    "    counter = 1\n",
    "    \n",
    "    add_df = [[curr_money, start_date, False], [curr_money, start_date, True]]\n",
    "    # [curr_money_invest, start_date, True]\n",
    "    \n",
    "    while start_date <= end_date:  # simulates a day relative to finance\n",
    "        curr_money -= total_daily\n",
    "        curr_money_invest -= total_daily\n",
    "        if counter%7 == 0:\n",
    "            curr_money -= total_weekly\n",
    "            curr_money_invest -= total_weekly\n",
    "        if counter%30 == 0:\n",
    "            curr_money -= total_monthly\n",
    "            curr_money_invest -= total_monthly+monthly_investing\n",
    "        if counter%365 == 0:\n",
    "            curr_money -= total_yearly\n",
    "            curr_money_invest -= total_yearly\n",
    "        \n",
    "        add_df.append([curr_money, start_date, False])\n",
    "        add_df.append([curr_money_invest, start_date, True])\n",
    "        \n",
    "        start_date += delta\n",
    "        counter += 1\n",
    "    return pd.DataFrame(add_df, columns=cols)\n",
    "    \n",
    "\n",
    "def costs_of_note(df):\n",
    "    \"\"\" prints warnings based on plotted data\"\"\"\n",
    "    # TODO\n",
    "    return df\n",
    "    "
   ]
  },
  {
   "cell_type": "code",
   "execution_count": 18,
   "id": "d4310874",
   "metadata": {
    "scrolled": false
   },
   "outputs": [
    {
     "name": "stdout",
     "output_type": "stream",
     "text": [
      "Starting...\n",
      "\n",
      "Generating Dates...\n",
      "\n",
      "New plots:          Time                      Money  Investing?\n",
      "0      350.00 2022-06-20 11:35:06.496292       False\n",
      "1      350.00 2022-06-20 11:35:06.496292        True\n",
      "2      304.00 2022-06-20 11:35:06.496292       False\n",
      "3      304.00 2022-06-20 11:35:06.496292        True\n",
      "4      258.00 2022-06-21 11:35:06.496292       False\n",
      "..        ...                        ...         ...\n",
      "729  26080.35 2023-06-18 11:35:06.496292        True\n",
      "730  27234.35 2023-06-19 11:35:06.496292       False\n",
      "731  26034.35 2023-06-19 11:35:06.496292        True\n",
      "732  27188.35 2023-06-20 11:35:06.496292       False\n",
      "733  25988.35 2023-06-20 11:35:06.496292        True\n",
      "\n",
      "[734 rows x 3 columns]\n",
      "Projecting...\n"
     ]
    },
    {
     "name": "stderr",
     "output_type": "stream",
     "text": [
      "/var/folders/cx/2ln7_1jn5d93nb3p1h9qwlc40000gn/T/ipykernel_72566/1306162570.py:49: FutureWarning: The frame.append method is deprecated and will be removed from pandas in a future version. Use pandas.concat instead.\n",
      "  df = df.append(new_plots, ignore_index=True)\n"
     ]
    },
    {
     "ename": "ValueError",
     "evalue": "Value of 'color' is not the name of a column in 'data_frame'. Expected one of ['Time', 'Money', 'Investing?'] but received: invest?",
     "output_type": "error",
     "traceback": [
      "\u001b[0;31m---------------------------------------------------------------------------\u001b[0m",
      "\u001b[0;31mValueError\u001b[0m                                Traceback (most recent call last)",
      "Input \u001b[0;32mIn [18]\u001b[0m, in \u001b[0;36m<cell line: 1>\u001b[0;34m()\u001b[0m\n\u001b[1;32m     51\u001b[0m df \u001b[38;5;241m=\u001b[39m df\u001b[38;5;241m.\u001b[39msort_values(by\u001b[38;5;241m=\u001b[39mcols[\u001b[38;5;241m0\u001b[39m])  \u001b[38;5;66;03m# ensure date sorting\u001b[39;00m\n\u001b[1;32m     53\u001b[0m \u001b[38;5;28mprint\u001b[39m(\u001b[38;5;124m\"\u001b[39m\u001b[38;5;124mProjecting...\u001b[39m\u001b[38;5;124m\"\u001b[39m) \u001b[38;5;66;03m# plot graph\u001b[39;00m\n\u001b[0;32m---> 54\u001b[0m fig \u001b[38;5;241m=\u001b[39m \u001b[43mpx\u001b[49m\u001b[38;5;241;43m.\u001b[39;49m\u001b[43mline\u001b[49m\u001b[43m(\u001b[49m\u001b[43mdf\u001b[49m\u001b[43m,\u001b[49m\u001b[43m \u001b[49m\u001b[43mx\u001b[49m\u001b[38;5;241;43m=\u001b[39;49m\u001b[38;5;124;43m\"\u001b[39;49m\u001b[38;5;124;43mTime\u001b[39;49m\u001b[38;5;124;43m\"\u001b[39;49m\u001b[43m,\u001b[49m\u001b[43m \u001b[49m\u001b[43my\u001b[49m\u001b[38;5;241;43m=\u001b[39;49m\u001b[38;5;124;43m\"\u001b[39;49m\u001b[38;5;124;43mMoney\u001b[39;49m\u001b[38;5;124;43m\"\u001b[39;49m\u001b[43m,\u001b[49m\u001b[43m \u001b[49m\u001b[43mcolor\u001b[49m\u001b[38;5;241;43m=\u001b[39;49m\u001b[38;5;124;43m'\u001b[39;49m\u001b[38;5;124;43minvest?\u001b[39;49m\u001b[38;5;124;43m'\u001b[39;49m\u001b[43m)\u001b[49m\n\u001b[1;32m     57\u001b[0m \u001b[38;5;66;03m# show upcoming costs over a certain amount\u001b[39;00m\n\u001b[1;32m     58\u001b[0m \u001b[38;5;28mprint\u001b[39m(\u001b[38;5;124m\"\u001b[39m\u001b[38;5;130;01m\\n\u001b[39;00m\u001b[38;5;124mCost Insights...\u001b[39m\u001b[38;5;124m\"\u001b[39m)\n",
      "File \u001b[0;32m/Library/Frameworks/Python.framework/Versions/3.10/lib/python3.10/site-packages/plotly/express/_chart_types.py:264\u001b[0m, in \u001b[0;36mline\u001b[0;34m(data_frame, x, y, line_group, color, line_dash, symbol, hover_name, hover_data, custom_data, text, facet_row, facet_col, facet_col_wrap, facet_row_spacing, facet_col_spacing, error_x, error_x_minus, error_y, error_y_minus, animation_frame, animation_group, category_orders, labels, orientation, color_discrete_sequence, color_discrete_map, line_dash_sequence, line_dash_map, symbol_sequence, symbol_map, markers, log_x, log_y, range_x, range_y, line_shape, render_mode, title, template, width, height)\u001b[0m\n\u001b[1;32m    216\u001b[0m \u001b[38;5;28;01mdef\u001b[39;00m \u001b[38;5;21mline\u001b[39m(\n\u001b[1;32m    217\u001b[0m     data_frame\u001b[38;5;241m=\u001b[39m\u001b[38;5;28;01mNone\u001b[39;00m,\n\u001b[1;32m    218\u001b[0m     x\u001b[38;5;241m=\u001b[39m\u001b[38;5;28;01mNone\u001b[39;00m,\n\u001b[0;32m   (...)\u001b[0m\n\u001b[1;32m    258\u001b[0m     height\u001b[38;5;241m=\u001b[39m\u001b[38;5;28;01mNone\u001b[39;00m,\n\u001b[1;32m    259\u001b[0m ) \u001b[38;5;241m-\u001b[39m\u001b[38;5;241m>\u001b[39m go\u001b[38;5;241m.\u001b[39mFigure:\n\u001b[1;32m    260\u001b[0m     \u001b[38;5;124;03m\"\"\"\u001b[39;00m\n\u001b[1;32m    261\u001b[0m \u001b[38;5;124;03m    In a 2D line plot, each row of `data_frame` is represented as vertex of\u001b[39;00m\n\u001b[1;32m    262\u001b[0m \u001b[38;5;124;03m    a polyline mark in 2D space.\u001b[39;00m\n\u001b[1;32m    263\u001b[0m \u001b[38;5;124;03m    \"\"\"\u001b[39;00m\n\u001b[0;32m--> 264\u001b[0m     \u001b[38;5;28;01mreturn\u001b[39;00m \u001b[43mmake_figure\u001b[49m\u001b[43m(\u001b[49m\u001b[43margs\u001b[49m\u001b[38;5;241;43m=\u001b[39;49m\u001b[38;5;28;43mlocals\u001b[39;49m\u001b[43m(\u001b[49m\u001b[43m)\u001b[49m\u001b[43m,\u001b[49m\u001b[43m \u001b[49m\u001b[43mconstructor\u001b[49m\u001b[38;5;241;43m=\u001b[39;49m\u001b[43mgo\u001b[49m\u001b[38;5;241;43m.\u001b[39;49m\u001b[43mScatter\u001b[49m\u001b[43m)\u001b[49m\n",
      "File \u001b[0;32m/Library/Frameworks/Python.framework/Versions/3.10/lib/python3.10/site-packages/plotly/express/_core.py:1948\u001b[0m, in \u001b[0;36mmake_figure\u001b[0;34m(args, constructor, trace_patch, layout_patch)\u001b[0m\n\u001b[1;32m   1945\u001b[0m layout_patch \u001b[38;5;241m=\u001b[39m layout_patch \u001b[38;5;129;01mor\u001b[39;00m {}\n\u001b[1;32m   1946\u001b[0m apply_default_cascade(args)\n\u001b[0;32m-> 1948\u001b[0m args \u001b[38;5;241m=\u001b[39m \u001b[43mbuild_dataframe\u001b[49m\u001b[43m(\u001b[49m\u001b[43margs\u001b[49m\u001b[43m,\u001b[49m\u001b[43m \u001b[49m\u001b[43mconstructor\u001b[49m\u001b[43m)\u001b[49m\n\u001b[1;32m   1949\u001b[0m \u001b[38;5;28;01mif\u001b[39;00m constructor \u001b[38;5;129;01min\u001b[39;00m [go\u001b[38;5;241m.\u001b[39mTreemap, go\u001b[38;5;241m.\u001b[39mSunburst, go\u001b[38;5;241m.\u001b[39mIcicle] \u001b[38;5;129;01mand\u001b[39;00m args[\u001b[38;5;124m\"\u001b[39m\u001b[38;5;124mpath\u001b[39m\u001b[38;5;124m\"\u001b[39m] \u001b[38;5;129;01mis\u001b[39;00m \u001b[38;5;129;01mnot\u001b[39;00m \u001b[38;5;28;01mNone\u001b[39;00m:\n\u001b[1;32m   1950\u001b[0m     args \u001b[38;5;241m=\u001b[39m process_dataframe_hierarchy(args)\n",
      "File \u001b[0;32m/Library/Frameworks/Python.framework/Versions/3.10/lib/python3.10/site-packages/plotly/express/_core.py:1405\u001b[0m, in \u001b[0;36mbuild_dataframe\u001b[0;34m(args, constructor)\u001b[0m\n\u001b[1;32m   1402\u001b[0m     args[\u001b[38;5;124m\"\u001b[39m\u001b[38;5;124mcolor\u001b[39m\u001b[38;5;124m\"\u001b[39m] \u001b[38;5;241m=\u001b[39m \u001b[38;5;28;01mNone\u001b[39;00m\n\u001b[1;32m   1403\u001b[0m \u001b[38;5;66;03m# now that things have been prepped, we do the systematic rewriting of `args`\u001b[39;00m\n\u001b[0;32m-> 1405\u001b[0m df_output, wide_id_vars \u001b[38;5;241m=\u001b[39m \u001b[43mprocess_args_into_dataframe\u001b[49m\u001b[43m(\u001b[49m\n\u001b[1;32m   1406\u001b[0m \u001b[43m    \u001b[49m\u001b[43margs\u001b[49m\u001b[43m,\u001b[49m\u001b[43m \u001b[49m\u001b[43mwide_mode\u001b[49m\u001b[43m,\u001b[49m\u001b[43m \u001b[49m\u001b[43mvar_name\u001b[49m\u001b[43m,\u001b[49m\u001b[43m \u001b[49m\u001b[43mvalue_name\u001b[49m\n\u001b[1;32m   1407\u001b[0m \u001b[43m\u001b[49m\u001b[43m)\u001b[49m\n\u001b[1;32m   1409\u001b[0m \u001b[38;5;66;03m# now that `df_output` exists and `args` contains only references, we complete\u001b[39;00m\n\u001b[1;32m   1410\u001b[0m \u001b[38;5;66;03m# the special-case and wide-mode handling by further rewriting args and/or mutating\u001b[39;00m\n\u001b[1;32m   1411\u001b[0m \u001b[38;5;66;03m# df_output\u001b[39;00m\n\u001b[1;32m   1413\u001b[0m count_name \u001b[38;5;241m=\u001b[39m _escape_col_name(df_output, \u001b[38;5;124m\"\u001b[39m\u001b[38;5;124mcount\u001b[39m\u001b[38;5;124m\"\u001b[39m, [var_name, value_name])\n",
      "File \u001b[0;32m/Library/Frameworks/Python.framework/Versions/3.10/lib/python3.10/site-packages/plotly/express/_core.py:1207\u001b[0m, in \u001b[0;36mprocess_args_into_dataframe\u001b[0;34m(args, wide_mode, var_name, value_name)\u001b[0m\n\u001b[1;32m   1205\u001b[0m         \u001b[38;5;28;01mif\u001b[39;00m argument \u001b[38;5;241m==\u001b[39m \u001b[38;5;124m\"\u001b[39m\u001b[38;5;124mindex\u001b[39m\u001b[38;5;124m\"\u001b[39m:\n\u001b[1;32m   1206\u001b[0m             err_msg \u001b[38;5;241m+\u001b[39m\u001b[38;5;241m=\u001b[39m \u001b[38;5;124m\"\u001b[39m\u001b[38;5;130;01m\\n\u001b[39;00m\u001b[38;5;124m To use the index, pass it in directly as `df.index`.\u001b[39m\u001b[38;5;124m\"\u001b[39m\n\u001b[0;32m-> 1207\u001b[0m         \u001b[38;5;28;01mraise\u001b[39;00m \u001b[38;5;167;01mValueError\u001b[39;00m(err_msg)\n\u001b[1;32m   1208\u001b[0m \u001b[38;5;28;01melif\u001b[39;00m length \u001b[38;5;129;01mand\u001b[39;00m \u001b[38;5;28mlen\u001b[39m(df_input[argument]) \u001b[38;5;241m!=\u001b[39m length:\n\u001b[1;32m   1209\u001b[0m     \u001b[38;5;28;01mraise\u001b[39;00m \u001b[38;5;167;01mValueError\u001b[39;00m(\n\u001b[1;32m   1210\u001b[0m         \u001b[38;5;124m\"\u001b[39m\u001b[38;5;124mAll arguments should have the same length. \u001b[39m\u001b[38;5;124m\"\u001b[39m\n\u001b[1;32m   1211\u001b[0m         \u001b[38;5;124m\"\u001b[39m\u001b[38;5;124mThe length of column argument `df[\u001b[39m\u001b[38;5;132;01m%s\u001b[39;00m\u001b[38;5;124m]` is \u001b[39m\u001b[38;5;132;01m%d\u001b[39;00m\u001b[38;5;124m, whereas the \u001b[39m\u001b[38;5;124m\"\u001b[39m\n\u001b[0;32m   (...)\u001b[0m\n\u001b[1;32m   1218\u001b[0m         )\n\u001b[1;32m   1219\u001b[0m     )\n",
      "\u001b[0;31mValueError\u001b[0m: Value of 'color' is not the name of a column in 'data_frame'. Expected one of ['Time', 'Money', 'Investing?'] but received: invest?"
     ]
    }
   ],
   "source": [
    "if __name__ == '__main__':\n",
    "    print(\"Starting...\\n\")\n",
    "    \n",
    "    init_data = {cols[0]: [], cols[1]: []}\n",
    "    df = pd.DataFrame(init_data)\n",
    "    \n",
    "    # init current account amount in present day\n",
    "    init_money = 350\n",
    "    \n",
    "    # add highlighted line of account below $100 as red zone\n",
    "    \n",
    "    # get income\n",
    "    curr_income = float(os.environ.get(\"CURR_INCOME\"))  # should probably do this for legal reasons\n",
    "    if curr_income == None:\n",
    "        print(\"Note: could not properly find current income\")\n",
    "        curr_income = 13.2  # template amount (new york state minimum wage)\n",
    "    \n",
    "    constraints = {\n",
    "        # name: [cost, daily/weekly/monthly/yearly, next_payment_due/buffer, description]\n",
    "        \n",
    "        # income\n",
    "        \"current job\": [-curr_income*hr_work_week*tax_rate, \"w\", 0, \"\"],\n",
    "        \n",
    "        # housing  (N/A living at home)\n",
    "        \n",
    "        # food\n",
    "        \"general food\": [40, \"d\", 0, \"approx $15 lunch, $25 dinner\"],\n",
    "        \"soylent\": [34/3, \"m\", 0, \"coffee/cheap breakfast\"],\n",
    "        \n",
    "        # health\n",
    "        \"meds\": [(9/4)+24, \"m\", 0, \"vitamins + monthly meds\"],\n",
    "        \"hair\": [120/2.5, \"m\", 0, \"nappstar\"],\n",
    "        \"kickboxing\": [(54+2)/2, \"w\", 0, \"biweekly class + water\"],\n",
    "        \n",
    "        # entertainment\n",
    "        \"anything budget\": [45, \"w\", 0, \"money to spend on anything (extra food/cloths/ubers)\"],\n",
    "        \"nails\": [42/2, \"m\", 0, \"getting nails/eyebrows done\"],\n",
    "        \"anime\": [8, \"m\", 0, \"crunchyroll subscription\"],\n",
    "        \n",
    "        # cat\n",
    "        \"cat_food\": [41/3, \"m\", 0, \"cat food every 3 months: https://www.amazon.com/dp/B06XDP4H17/ref=sns_myd_detail_page\"],\n",
    "        \"cat_litter\": [24/3, \"m\", 0, \"cat litter every 3 months: https://www.amazon.com/dp/B06ZZ4679J/ref=sns_myd_detail_page\"]\n",
    "        # cat toys filled under extra costs\n",
    "    }\n",
    "    \n",
    "    print(\"Generating Dates...\\n\")\n",
    "    new_plots = add_plots(init_money, constraints)\n",
    "    print(\"New plots:\", new_plots)\n",
    "    df = df.append(new_plots, ignore_index=True)\n",
    "    \n",
    "    df = df.sort_values(by=cols[0])  # ensure date sorting\n",
    "    \n",
    "    print(\"Projecting...\") # plot graph\n",
    "    fig = px.line(df, x=cols[0], y=cols[1], color=cols[2])\n",
    "    \n",
    "    \n",
    "    # show upcoming costs over a certain amount\n",
    "    print(\"\\nCost Insights...\")\n",
    "    costs_of_note(df)"
   ]
  },
  {
   "cell_type": "code",
   "execution_count": null,
   "id": "527b782b",
   "metadata": {},
   "outputs": [],
   "source": []
  }
 ],
 "metadata": {
  "kernelspec": {
   "display_name": "Python 3 (ipykernel)",
   "language": "python",
   "name": "python3"
  },
  "language_info": {
   "codemirror_mode": {
    "name": "ipython",
    "version": 3
   },
   "file_extension": ".py",
   "mimetype": "text/x-python",
   "name": "python",
   "nbconvert_exporter": "python",
   "pygments_lexer": "ipython3",
   "version": "3.10.4"
  }
 },
 "nbformat": 4,
 "nbformat_minor": 5
}
